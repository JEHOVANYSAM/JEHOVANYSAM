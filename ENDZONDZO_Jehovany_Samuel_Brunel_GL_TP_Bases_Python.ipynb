{
 "cells": [
  {
   "cell_type": "markdown",
   "id": "9ddaa18d",
   "metadata": {},
   "source": [
    "# Exercice 1"
   ]
  },
  {
   "cell_type": "code",
   "execution_count": 2,
   "id": "37e61995",
   "metadata": {},
   "outputs": [
    {
     "name": "stdout",
     "output_type": "stream",
     "text": [
      "Saisissez votre nom s'il vous plait : SAMI\n",
      "Soyez le Bienvenue, SAMI!\n"
     ]
    }
   ],
   "source": [
    "nom = input(\"Saisissez votre nom s'il vous plait : \")\n",
    "print(f\"Soyez le Bienvenue, {nom}!\")"
   ]
  },
  {
   "cell_type": "markdown",
   "id": "2aa52f74",
   "metadata": {},
   "source": [
    "## Exercice 2"
   ]
  },
  {
   "cell_type": "code",
   "execution_count": 3,
   "id": "e3416b11",
   "metadata": {},
   "outputs": [
    {
     "name": "stdout",
     "output_type": "stream",
     "text": [
      "Saisissez le 1er nombre : 1\n",
      "Saisir le 2e nombre : 2\n",
      "1.0 + 2.0 est egale à : 3.0\n"
     ]
    }
   ],
   "source": [
    "a = float(input(\"Saisissez le 1er nombre : \"))\n",
    "b = float(input(\"Saisir le 2e nombre : \"))\n",
    "print(f\"{a} + {b} est egale à : {a + b}\")"
   ]
  },
  {
   "cell_type": "markdown",
   "id": "2b7a2788",
   "metadata": {},
   "source": [
    "## Exercice 3"
   ]
  },
  {
   "cell_type": "code",
   "execution_count": null,
   "id": "ecec6d4c",
   "metadata": {},
   "outputs": [],
   "source": [
    "a = float(input(\"Saisissez le 1er nombre : \"))\n",
    "b = float(input(\"Saissez le 2e nombre : \"))\n",
    "print(f\"Le maximum entre {a} et {b} est : {max(a, b)}\")"
   ]
  },
  {
   "cell_type": "markdown",
   "id": "f638d80b",
   "metadata": {},
   "source": [
    "## Exercice 4"
   ]
  },
  {
   "cell_type": "code",
   "execution_count": 4,
   "id": "f84cfc71",
   "metadata": {},
   "outputs": [
    {
     "name": "stdout",
     "output_type": "stream",
     "text": [
      "1\n",
      "2\n",
      "3\n",
      "4\n",
      "5\n",
      "6\n",
      "7\n",
      "8\n",
      "9\n",
      "10\n",
      "11\n",
      "12\n",
      "13\n",
      "14\n",
      "15\n",
      "16\n",
      "17\n",
      "18\n",
      "19\n",
      "20\n",
      "21\n",
      "22\n",
      "23\n",
      "24\n",
      "25\n",
      "26\n",
      "27\n",
      "28\n",
      "29\n",
      "30\n",
      "31\n",
      "32\n",
      "33\n",
      "34\n",
      "35\n",
      "36\n",
      "37\n",
      "38\n",
      "39\n",
      "40\n",
      "41\n",
      "42\n",
      "43\n",
      "44\n",
      "45\n",
      "46\n",
      "47\n",
      "48\n",
      "49\n",
      "50\n",
      "51\n",
      "52\n",
      "53\n",
      "54\n",
      "55\n",
      "56\n",
      "57\n",
      "58\n",
      "59\n",
      "60\n",
      "61\n",
      "62\n",
      "63\n",
      "64\n",
      "65\n",
      "66\n",
      "67\n",
      "68\n",
      "69\n",
      "70\n",
      "71\n",
      "72\n",
      "73\n",
      "74\n",
      "75\n",
      "76\n",
      "77\n",
      "78\n",
      "79\n",
      "80\n",
      "81\n",
      "82\n",
      "83\n",
      "84\n",
      "85\n",
      "86\n",
      "87\n",
      "88\n",
      "89\n",
      "90\n",
      "91\n",
      "92\n",
      "93\n",
      "94\n",
      "95\n",
      "96\n",
      "97\n",
      "98\n",
      "99\n",
      "100\n"
     ]
    }
   ],
   "source": [
    "for i in range(1, 101):\n",
    "    print(i)"
   ]
  },
  {
   "cell_type": "markdown",
   "id": "483d9797",
   "metadata": {},
   "source": [
    "## Exercice 5"
   ]
  },
  {
   "cell_type": "code",
   "execution_count": null,
   "id": "6eef7d6d",
   "metadata": {},
   "outputs": [],
   "source": [
    "n = int(input(\"Saisisssez un nombre entier : \"))\n",
    "if n % 2 == 0:\n",
    "    print(\"Le nombre est pair\")\n",
    "else:\n",
    "    print(\"Le nombre est impair\")"
   ]
  },
  {
   "cell_type": "markdown",
   "id": "a2d78feb",
   "metadata": {},
   "source": [
    "## Exercice 6"
   ]
  },
  {
   "cell_type": "code",
   "execution_count": null,
   "id": "a9b80f9a",
   "metadata": {},
   "outputs": [],
   "source": [
    "age = int(input(\"Saisissez votre âge : \"))\n",
    "if age >= 18:\n",
    "    print(\"Vous êtes majeur!\")\n",
    "else:\n",
    "    print(\"Vous êtes mineur!\")"
   ]
  },
  {
   "cell_type": "markdown",
   "id": "5515e591",
   "metadata": {},
   "source": [
    "## Exercice 7"
   ]
  },
  {
   "cell_type": "code",
   "execution_count": null,
   "id": "3a908691",
   "metadata": {},
   "outputs": [],
   "source": [
    "x = float(input(\"Saisissez le 1er nombre : \"))\n",
    "y = float(input(\"Saisissez le 2e nombre : \"))\n",
    "z = float(input(\"Saisissez le 3e nombre : \"))\n",
    "print(f\"Le maximum entre {x}, {y}, et {z} est : {max(x, y, z)}\")"
   ]
  },
  {
   "cell_type": "markdown",
   "id": "0d8c3253",
   "metadata": {},
   "source": [
    "## Exercice 8"
   ]
  },
  {
   "cell_type": "code",
   "execution_count": null,
   "id": "d7caf265",
   "metadata": {},
   "outputs": [],
   "source": [
    "n = int(input(\"Saisissez un nombre entier n : \"))\n",
    "somme = sum(range(1, n + 1))\n",
    "print(f\"La somme des entiers de 1 à {n} est : {somme}\")"
   ]
  },
  {
   "cell_type": "markdown",
   "id": "c6ecd904",
   "metadata": {},
   "source": [
    "## Exercice 9"
   ]
  },
  {
   "cell_type": "code",
   "execution_count": 2,
   "id": "6c39565a",
   "metadata": {},
   "outputs": [
    {
     "name": "stdout",
     "output_type": "stream",
     "text": [
      "Saisir un nombre entier n : 2\n",
      "2! est egal à: 2\n"
     ]
    }
   ],
   "source": [
    "import math\n",
    "n = int(input(\"Saisissez un nombre entier n : \"))\n",
    "print(f\"{n}! est egal à: {math.factorial(n)}\")"
   ]
  },
  {
   "cell_type": "markdown",
   "id": "920dbe4e",
   "metadata": {},
   "source": [
    "## Exercice 10"
   ]
  },
  {
   "cell_type": "code",
   "execution_count": 4,
   "id": "2463ab1d",
   "metadata": {},
   "outputs": [
    {
     "name": "stdout",
     "output_type": "stream",
     "text": [
      "Saisissez la valeur du rayon d'un cercle : 4\n",
      "La surface est : 50.26548245743669, \n",
      "Le périmètre est : 25.132741228718345\n"
     ]
    }
   ],
   "source": [
    "import math\n",
    "ray = float(input(\"Saisissez la valeur du rayon d'un cercle : \"))\n",
    "surface = math.pi * ray ** 2\n",
    "perimetre = 2 * math.pi * ray\n",
    "print(f\"La surface est : {surface}, \\nLe périmètre est : {perimetre}\")"
   ]
  },
  {
   "cell_type": "markdown",
   "id": "7a4f0769",
   "metadata": {},
   "source": [
    "## Exercice 11"
   ]
  },
  {
   "cell_type": "code",
   "execution_count": 5,
   "id": "d446d75b",
   "metadata": {},
   "outputs": [
    {
     "name": "stdout",
     "output_type": "stream",
     "text": [
      "Saisissez un nombre entier n : 4\n",
      "Les diviseurs de 4 sont : [1, 2, 4]\n"
     ]
    }
   ],
   "source": [
    "n = int(input(\"Saisissez un nombre entier n : \"))\n",
    "divs = [i for i in range(1, n + 1) if n % i == 0]\n",
    "print(f\"Les diviseurs de {n} sont : {divs}\")"
   ]
  },
  {
   "cell_type": "markdown",
   "id": "90f6076c",
   "metadata": {},
   "source": [
    "## Exercice 12"
   ]
  },
  {
   "cell_type": "code",
   "execution_count": 17,
   "id": "826cec49",
   "metadata": {},
   "outputs": [
    {
     "name": "stdout",
     "output_type": "stream",
     "text": [
      "Saisissez un nombre entier n : 2\n",
      "2 x 0 = 0\n",
      "2 x 1 = 2\n",
      "2 x 2 = 4\n",
      "2 x 3 = 6\n",
      "2 x 4 = 8\n",
      "2 x 5 = 10\n",
      "2 x 6 = 12\n",
      "2 x 7 = 14\n",
      "2 x 8 = 16\n",
      "2 x 9 = 18\n",
      "2 x 10 = 20\n",
      "\n",
      "Table de multiplication par 1:\n",
      "1 x 0 = 0\n",
      "1 x 1 = 1\n",
      "1 x 2 = 2\n",
      "1 x 3 = 3\n",
      "1 x 4 = 4\n",
      "1 x 5 = 5\n",
      "1 x 6 = 6\n",
      "1 x 7 = 7\n",
      "1 x 8 = 8\n",
      "1 x 9 = 9\n",
      "1 x 10 = 10\n",
      "\n",
      "Table de multiplication par 2:\n",
      "2 x 0 = 0\n",
      "2 x 1 = 2\n",
      "2 x 2 = 4\n",
      "2 x 3 = 6\n",
      "2 x 4 = 8\n",
      "2 x 5 = 10\n",
      "2 x 6 = 12\n",
      "2 x 7 = 14\n",
      "2 x 8 = 16\n",
      "2 x 9 = 18\n",
      "2 x 10 = 20\n",
      "\n",
      "Table de multiplication par 3:\n",
      "3 x 0 = 0\n",
      "3 x 1 = 3\n",
      "3 x 2 = 6\n",
      "3 x 3 = 9\n",
      "3 x 4 = 12\n",
      "3 x 5 = 15\n",
      "3 x 6 = 18\n",
      "3 x 7 = 21\n",
      "3 x 8 = 24\n",
      "3 x 9 = 27\n",
      "3 x 10 = 30\n",
      "\n",
      "Table de multiplication par 4:\n",
      "4 x 0 = 0\n",
      "4 x 1 = 4\n",
      "4 x 2 = 8\n",
      "4 x 3 = 12\n",
      "4 x 4 = 16\n",
      "4 x 5 = 20\n",
      "4 x 6 = 24\n",
      "4 x 7 = 28\n",
      "4 x 8 = 32\n",
      "4 x 9 = 36\n",
      "4 x 10 = 40\n",
      "\n",
      "Table de multiplication par 5:\n",
      "5 x 0 = 0\n",
      "5 x 1 = 5\n",
      "5 x 2 = 10\n",
      "5 x 3 = 15\n",
      "5 x 4 = 20\n",
      "5 x 5 = 25\n",
      "5 x 6 = 30\n",
      "5 x 7 = 35\n",
      "5 x 8 = 40\n",
      "5 x 9 = 45\n",
      "5 x 10 = 50\n",
      "\n",
      "Table de multiplication par 6:\n",
      "6 x 0 = 0\n",
      "6 x 1 = 6\n",
      "6 x 2 = 12\n",
      "6 x 3 = 18\n",
      "6 x 4 = 24\n",
      "6 x 5 = 30\n",
      "6 x 6 = 36\n",
      "6 x 7 = 42\n",
      "6 x 8 = 48\n",
      "6 x 9 = 54\n",
      "6 x 10 = 60\n",
      "\n",
      "Table de multiplication par 7:\n",
      "7 x 0 = 0\n",
      "7 x 1 = 7\n",
      "7 x 2 = 14\n",
      "7 x 3 = 21\n",
      "7 x 4 = 28\n",
      "7 x 5 = 35\n",
      "7 x 6 = 42\n",
      "7 x 7 = 49\n",
      "7 x 8 = 56\n",
      "7 x 9 = 63\n",
      "7 x 10 = 70\n",
      "\n",
      "Table de multiplication par 8:\n",
      "8 x 0 = 0\n",
      "8 x 1 = 8\n",
      "8 x 2 = 16\n",
      "8 x 3 = 24\n",
      "8 x 4 = 32\n",
      "8 x 5 = 40\n",
      "8 x 6 = 48\n",
      "8 x 7 = 56\n",
      "8 x 8 = 64\n",
      "8 x 9 = 72\n",
      "8 x 10 = 80\n",
      "\n",
      "Table de multiplication par 9:\n",
      "9 x 0 = 0\n",
      "9 x 1 = 9\n",
      "9 x 2 = 18\n",
      "9 x 3 = 27\n",
      "9 x 4 = 36\n",
      "9 x 5 = 45\n",
      "9 x 6 = 54\n",
      "9 x 7 = 63\n",
      "9 x 8 = 72\n",
      "9 x 9 = 81\n",
      "9 x 10 = 90\n"
     ]
    }
   ],
   "source": [
    "# Question 1\n",
    "n = int(input(\"Saisissez un nombre entier n : \"))\n",
    "for i in range(0, 11):\n",
    "    print(f\"{n} x {i} = {n * i}\")\n",
    "\n",
    "#Question 2\n",
    "for n in range(1, 10):\n",
    "    print(f\"\\nTable de multiplication par {n}:\")\n",
    "    for i in range(0, 11):\n",
    "        print(f\"{n} x {i} = {n * i}\")"
   ]
  },
  {
   "cell_type": "markdown",
   "id": "64a86575",
   "metadata": {},
   "source": [
    "## Exercice 13"
   ]
  },
  {
   "cell_type": "code",
   "execution_count": 18,
   "id": "fbcc359a",
   "metadata": {},
   "outputs": [
    {
     "name": "stdout",
     "output_type": "stream",
     "text": [
      "Saisissez un nombre entier a : 1\n",
      "Saisissez un nombre entier b : 2\n",
      "Le quotient est 0 et le reste est 1\n"
     ]
    }
   ],
   "source": [
    "a = int(input(\"Saisissez un nombre entier a : \"))\n",
    "b = int(input(\"Saisissez un nombre entier b : \"))\n",
    "q, r = divmod(a, b)\n",
    "print(f\"Le quotient est {q} et le reste est {r}\")"
   ]
  },
  {
   "cell_type": "markdown",
   "id": "f66a45dd",
   "metadata": {},
   "source": [
    "## Exercice 14"
   ]
  },
  {
   "cell_type": "code",
   "execution_count": null,
   "id": "3bbdddc3",
   "metadata": {},
   "outputs": [],
   "source": [
    "import math\n",
    "n = int(input(\"Saisissez un nombre entier n : \"))\n",
    "if math.isqrt(n) ** 2 == n:\n",
    "    print(f\"{n} est un carré parfait\")\n",
    "else:\n",
    "    print(f\"{n} n'est pas un carré parfait\")"
   ]
  },
  {
   "cell_type": "markdown",
   "id": "0b0d4def",
   "metadata": {},
   "source": [
    "## Exercice 15"
   ]
  },
  {
   "cell_type": "code",
   "execution_count": null,
   "id": "f86e3427",
   "metadata": {},
   "outputs": [],
   "source": [
    "n = int(input(\"Saisissez un nombre entier n : \"))\n",
    "if n > 1 and all(n % i != 0 for i in range(2, int(n ** 0.5) + 1)):\n",
    "    print(f\"{n} est un nombre premier\")\n",
    "else:\n",
    "    print(f\"{n} n'est pas un nombre premier\")"
   ]
  },
  {
   "cell_type": "markdown",
   "id": "dc5d2901",
   "metadata": {},
   "source": [
    "## Exercice 16"
   ]
  },
  {
   "cell_type": "code",
   "execution_count": 19,
   "id": "618d4f93",
   "metadata": {},
   "outputs": [
    {
     "name": "stdout",
     "output_type": "stream",
     "text": [
      "P\n",
      "y\n",
      "t\n",
      "h\n",
      "o\n",
      "n\n"
     ]
    }
   ],
   "source": [
    "s = \"Python\"\n",
    "for char in s:\n",
    "    print(char)"
   ]
  },
  {
   "cell_type": "markdown",
   "id": "bd809da2",
   "metadata": {},
   "source": [
    "## Exercice 17"
   ]
  },
  {
   "cell_type": "code",
   "execution_count": 21,
   "id": "7814bbf7",
   "metadata": {},
   "outputs": [
    {
     "name": "stdout",
     "output_type": "stream",
     "text": [
      "Saisissez un mot : samarino\n",
      "Le caractère 's' figure 1 fois dans la chaine.\n",
      "Le caractère 'a' figure 2 fois dans la chaine.\n",
      "Le caractère 'm' figure 1 fois dans la chaine.\n",
      "Le caractère 'r' figure 1 fois dans la chaine.\n",
      "Le caractère 'i' figure 1 fois dans la chaine.\n",
      "Le caractère 'n' figure 1 fois dans la chaine.\n",
      "Le caractère 'o' figure 1 fois dans la chaine.\n"
     ]
    }
   ],
   "source": [
    "s = str(input(\"Saisissez un mot : \"))\n",
    "occurrences = {}\n",
    "for char in s:\n",
    "    occurrences[char] = occurrences.get(char, 0) + 1\n",
    "for char, count in occurrences.items():\n",
    "    print(f\"Le caractère '{char}' figure {count} fois dans la chaine.\")"
   ]
  },
  {
   "cell_type": "markdown",
   "id": "83f17c33",
   "metadata": {},
   "source": [
    "## Exercice 18"
   ]
  },
  {
   "cell_type": "code",
   "execution_count": null,
   "id": "d82756dd",
   "metadata": {},
   "outputs": [],
   "source": [
    "s = input(\"Saisissez une chaine : \")\n",
    "position = [i for i, char in enumerate(s) if char == 'a']\n",
    "if position:\n",
    "    for pos in position:\n",
    "        print(f\"La lettre 'a' se trouve à la position : {pos}\")\n",
    "else:\n",
    "    print(\"La lettre 'a' ne figure pas dans cette chaine.\")"
   ]
  },
  {
   "cell_type": "markdown",
   "id": "2942dc36",
   "metadata": {},
   "source": [
    "## Exercice 19"
   ]
  },
  {
   "cell_type": "code",
   "execution_count": null,
   "id": "f71885f5",
   "metadata": {},
   "outputs": [],
   "source": [
    "l = [\"laptop\", \"iphone\", \"tablet\"]\n",
    "for item in l:\n",
    "    print(f\"{item} - longueur : {len(item)}\")"
   ]
  },
  {
   "cell_type": "markdown",
   "id": "be99b0fa",
   "metadata": {},
   "source": [
    "## Exercice 20"
   ]
  },
  {
   "cell_type": "code",
   "execution_count": 23,
   "id": "23fc1775",
   "metadata": {},
   "outputs": [
    {
     "name": "stdout",
     "output_type": "stream",
     "text": [
      "Saisissez une chaine : sam\n",
      "Résultat : mas\n"
     ]
    }
   ],
   "source": [
    "s = input(\"Saisissez une chaine : \")\n",
    "s = s[-1] + s[1:-1] + s[0] if len(s) > 1 else s\n",
    "print(\"Résultat :\", s)"
   ]
  },
  {
   "cell_type": "markdown",
   "id": "ecf300f4",
   "metadata": {},
   "source": [
    "## Exercice 21"
   ]
  },
  {
   "cell_type": "code",
   "execution_count": 22,
   "id": "44be4bca",
   "metadata": {},
   "outputs": [
    {
     "name": "stdout",
     "output_type": "stream",
     "text": [
      "Saisissez un mot : sama\n",
      "La chaine 'sama' possède 2 voyelles.\n"
     ]
    }
   ],
   "source": [
    "s =str(input(\"Saisissez un mot : \"))\n",
    "voyelles = \"aeiouy\"\n",
    "nbre_voyelles = sum(1 for char in s if char in voyelles)\n",
    "print(f\"La chaine '{s}' possède {nbre_voyelles} voyelles.\")"
   ]
  },
  {
   "cell_type": "markdown",
   "id": "47456755",
   "metadata": {},
   "source": [
    "## Exercice 22"
   ]
  },
  {
   "cell_type": "code",
   "execution_count": null,
   "id": "3e45d9f1",
   "metadata": {},
   "outputs": [],
   "source": [
    "t = str(input(\"Saisissez un texte: \"))\n",
    "print(\"Le premier mot est :\", t.split()[0])"
   ]
  },
  {
   "cell_type": "markdown",
   "id": "9a27d31d",
   "metadata": {},
   "source": [
    "## Exercice 23"
   ]
  },
  {
   "cell_type": "code",
   "execution_count": 24,
   "id": "b53e74e0",
   "metadata": {},
   "outputs": [
    {
     "name": "stdout",
     "output_type": "stream",
     "text": [
      "Saisir le nom d'un fichier : sam.jpg\n",
      "L'extension du fichier est : .jpg\n"
     ]
    }
   ],
   "source": [
    "fichier = str(input(\"Saisissez le nom d'un fichier : \"))\n",
    "extension = fichier.split('.')[-1]\n",
    "print(f\"L'extension du fichier est : .{extension}\")"
   ]
  },
  {
   "cell_type": "markdown",
   "id": "ea9cf361",
   "metadata": {},
   "source": [
    "## Exercice 24"
   ]
  },
  {
   "cell_type": "code",
   "execution_count": null,
   "id": "077814ff",
   "metadata": {},
   "outputs": [],
   "source": [
    "mot = str(input(\"Saisissez un mot : \"))\n",
    "if mot == mot[::-1]:\n",
    "    print(f\"{mot} est un palindrome\")\n",
    "else:\n",
    "    print(f\"{mot} n'est pas un palindrome\")"
   ]
  },
  {
   "cell_type": "markdown",
   "id": "b98186c3",
   "metadata": {},
   "source": [
    "## Exercice 25"
   ]
  },
  {
   "cell_type": "code",
   "execution_count": null,
   "id": "111b80fd",
   "metadata": {},
   "outputs": [],
   "source": [
    "mot = str(input(\"Saisissez un mot : \"))\n",
    "print(\"L'inverse de ce mot est :\", mot[::-1])"
   ]
  },
  {
   "cell_type": "markdown",
   "id": "cc7c06d2",
   "metadata": {},
   "source": [
    "## Exercice 26"
   ]
  },
  {
   "cell_type": "code",
   "execution_count": null,
   "id": "5d76cd37",
   "metadata": {},
   "outputs": [],
   "source": [
    "texte =str(input(\"Saisissez un texte : \"))\n",
    "mots = [mot for mot in texte.split() if mot.startswith('a')]\n",
    "print(\"Mots commençant par 'a' :\", mots)"
   ]
  },
  {
   "cell_type": "markdown",
   "id": "10889eb4",
   "metadata": {},
   "source": [
    "## Exercice 27"
   ]
  },
  {
   "cell_type": "code",
   "execution_count": null,
   "id": "d1d31ae9",
   "metadata": {},
   "outputs": [],
   "source": [
    "def somme_liste(l):\n",
    "    return sum(l)\n",
    "\n",
    "def produit_liste(l):\n",
    "    produit = 1\n",
    "    for num in l:\n",
    "        produit *= num\n",
    "    return produit\n",
    "\n",
    "print(\"Somme :\", somme_liste([1, 2, 3]))\n",
    "print(\"Produit :\", produit_liste([1, 2, 3]))"
   ]
  },
  {
   "cell_type": "markdown",
   "id": "b30f0fff",
   "metadata": {},
   "source": [
    "## Exercice 28"
   ]
  },
  {
   "cell_type": "code",
   "execution_count": null,
   "id": "066b70e1",
   "metadata": {},
   "outputs": [],
   "source": [
    "def est_vide(obj):\n",
    "    return len(obj) == 0\n",
    "\n",
    "print(\"Liste vide:\", est_vide([]))\n",
    "print(\"Chaine vide:\", est_vide(\"\"))"
   ]
  },
  {
   "cell_type": "markdown",
   "id": "8088181c",
   "metadata": {},
   "source": [
    "## Exercice 29"
   ]
  },
  {
   "cell_type": "code",
   "execution_count": null,
   "id": "8bb10f58",
   "metadata": {},
   "outputs": [],
   "source": [
    "def supprimer_duplicats(l):\n",
    "    return list(set(l))\n",
    "\n",
    "print(\"Sans doublons :\", supprimer_duplicats([1, 2, 2, 3, 3, 3, 4]))"
   ]
  },
  {
   "cell_type": "markdown",
   "id": "ba8ded14",
   "metadata": {},
   "source": [
    "## Exercice 30"
   ]
  },
  {
   "cell_type": "code",
   "execution_count": null,
   "id": "4de57c8d",
   "metadata": {},
   "outputs": [],
   "source": [
    "def ont_valeur_commune(l1, l2):\n",
    "    return bool(set(l1) & set(l2))\n",
    "\n",
    "# Exemple\n",
    "print(\"Valeur commune :\", ont_valeur_commune([1, 2, 3], [3, 4, 5]))"
   ]
  },
  {
   "cell_type": "markdown",
   "id": "aa66e990",
   "metadata": {},
   "source": [
    "## Exercice 31"
   ]
  },
  {
   "cell_type": "code",
   "execution_count": null,
   "id": "1cb74e5b",
   "metadata": {},
   "outputs": [],
   "source": [
    "def extraire_pairs_impairs(l):\n",
    "    pairs = [x for x in l if x % 2 == 0]\n",
    "    impairs = [x for x in l if x % 2 != 0]\n",
    "    return pairs, impairs\n",
    "\n",
    "# Exemple\n",
    "print(\"Pairs et Impairs :\", extraire_pairs_impairs([1, 2, 3, 4, 5]))"
   ]
  },
  {
   "cell_type": "markdown",
   "id": "495aee77",
   "metadata": {},
   "source": [
    "## Exercice 32"
   ]
  },
  {
   "cell_type": "code",
   "execution_count": null,
   "id": "6ab364e8",
   "metadata": {},
   "outputs": [],
   "source": [
    "from itertools import permutations\n",
    "\n",
    "def permuter_elements(l):\n",
    "    return list(permutations(l))\n",
    "\n",
    "# Exemple\n",
    "print(\"Permutations :\", permuter_elements([1, 2, 3]))"
   ]
  },
  {
   "cell_type": "markdown",
   "id": "402711a7",
   "metadata": {},
   "source": [
    "## Exercice 33"
   ]
  },
  {
   "cell_type": "code",
   "execution_count": null,
   "id": "146f25c7",
   "metadata": {},
   "outputs": [],
   "source": [
    "s = input(\"Saisir une chaine : \")\n",
    "print(\"Caractères d'indice pair :\", s[::2])"
   ]
  },
  {
   "cell_type": "markdown",
   "id": "c66776b7",
   "metadata": {},
   "source": [
    "## Exercice 34"
   ]
  },
  {
   "cell_type": "code",
   "execution_count": null,
   "id": "a3a36c1c",
   "metadata": {},
   "outputs": [],
   "source": [
    "notes = [12, 4, 14, 11, 18, 13, 7, 10, 5, 9, 15, 8, 14, 16]\n",
    "au_dessus_moyenne = [note for note in notes if note >= 10]\n",
    "print(\"Notes au-dessus de la moyenne :\", au_dessus_moyenne)"
   ]
  },
  {
   "cell_type": "markdown",
   "id": "779bcc77",
   "metadata": {},
   "source": [
    "## Exercice 35"
   ]
  },
  {
   "cell_type": "code",
   "execution_count": null,
   "id": "53797a62",
   "metadata": {},
   "outputs": [],
   "source": [
    "url = input(\"Saisissez une URL : \")\n",
    "print(f\"<a href='{url}'>{url}</a>\")"
   ]
  },
  {
   "cell_type": "markdown",
   "id": "016fa1ce",
   "metadata": {},
   "source": [
    "## Exercice 36"
   ]
  },
  {
   "cell_type": "code",
   "execution_count": null,
   "id": "4f529513",
   "metadata": {},
   "outputs": [],
   "source": [
    "s = input(\"Saisissez une chaine avec espaces multiples : \")\n",
    "sans_espaces = ' '.join(s.split())\n",
    "print(\"Sans espaces multiples :\", sans_espaces)"
   ]
  },
  {
   "cell_type": "markdown",
   "id": "21e67412",
   "metadata": {},
   "source": [
    "## Exercice 37"
   ]
  },
  {
   "cell_type": "code",
   "execution_count": 29,
   "id": "f3de9e55",
   "metadata": {
    "scrolled": true
   },
   "outputs": [
    {
     "name": "stdout",
     "output_type": "stream",
     "text": [
      "Saisissez le 1er texte : ferme la\n",
      "Saisissez le 2e texte : de ferme\n",
      "Mots communs : ['ferme']\n"
     ]
    }
   ],
   "source": [
    "s1 = str(input(\"Saisissez le 1er texte : \"))\n",
    "s2 = str(input(\"Saisissez le 2e texte : \"))\n",
    "mots_communs = list(set(s1.split()) & set(s2.split()))\n",
    "print(\"Mots communs :\", mots_communs)"
   ]
  },
  {
   "cell_type": "markdown",
   "id": "568b0866",
   "metadata": {},
   "source": [
    "## Exercice 38"
   ]
  },
  {
   "cell_type": "code",
   "execution_count": null,
   "id": "44183b6b",
   "metadata": {},
   "outputs": [],
   "source": [
    "s =  str(input(\"Saisissez une chaine : \"))\n",
    "mot_le_plus_long = max(s.split(), key=len)\n",
    "print(\"Mot le plus long est:\", mot_le_plus_long)"
   ]
  },
  {
   "cell_type": "markdown",
   "id": "4f929958",
   "metadata": {},
   "source": [
    "## Exercice 39"
   ]
  },
  {
   "cell_type": "code",
   "execution_count": null,
   "id": "2eae9832",
   "metadata": {},
   "outputs": [],
   "source": [
    "s = str(input(\"Saisissez une chaine : \"))\n",
    "nbre_mots = len(s.split())\n",
    "print(\"Nombre de mots est:\", nbre_mots)"
   ]
  },
  {
   "cell_type": "markdown",
   "id": "699e563b",
   "metadata": {},
   "source": [
    "## Exercice 40"
   ]
  },
  {
   "cell_type": "code",
   "execution_count": 30,
   "id": "b4fbb888",
   "metadata": {},
   "outputs": [
    {
     "name": "stdout",
     "output_type": "stream",
     "text": [
      "Saisissez une chaine : Je suis le plus beau\n",
      "Chaine avec premier et dernier mot échangés : beau suis le plus Je\n"
     ]
    }
   ],
   "source": [
    "s = str(input(\"Saisissez une chaine : \"))\n",
    "mots = s.split()\n",
    "mots[0], mots[-1] = mots[-1], mots[0]\n",
    "echange = ' '.join(mots)\n",
    "print(\"Le texte avec le premier et le dernier mot échangés est:\", echange)"
   ]
  },
  {
   "cell_type": "markdown",
   "id": "f72e8bd1",
   "metadata": {},
   "source": [
    "## Exercice 41"
   ]
  },
  {
   "cell_type": "code",
   "execution_count": 32,
   "id": "5ac665cc",
   "metadata": {},
   "outputs": [
    {
     "name": "stdout",
     "output_type": "stream",
     "text": [
      "Nombre d'éléments divisibles : 2\n"
     ]
    }
   ],
   "source": [
    "def nombreDivisibles(l, n):\n",
    "    return sum(1 for x in l if x % n == 0)\n",
    "\n",
    "# Exemple\n",
    "print(\"Nombre d'éléments divisibles :\", nombreDivisibles([1, 9, 4, 6], 3))"
   ]
  },
  {
   "cell_type": "markdown",
   "id": "0e34596e",
   "metadata": {},
   "source": [
    "## Exercice 42"
   ]
  },
  {
   "cell_type": "code",
   "execution_count": 6,
   "id": "7e03b089",
   "metadata": {},
   "outputs": [
    {
     "name": "stdout",
     "output_type": "stream",
     "text": [
      "Nombre d'occurrences : 3\n"
     ]
    }
   ],
   "source": [
    "def nombreOccurences(L, x):\n",
    "    return sum(1 for i in L if i == x)\n",
    "\n",
    "# Exemple\n",
    "print(\"Nombre d'occurrences :\", nombreOccurences([1, 1, 2, 3, 4], 1))"
   ]
  },
  {
   "cell_type": "markdown",
   "id": "00e8ffee",
   "metadata": {},
   "source": [
    "## Exercice 43"
   ]
  },
  {
   "cell_type": "code",
   "execution_count": 5,
   "id": "8dbb6f70",
   "metadata": {},
   "outputs": [
    {
     "name": "stdout",
     "output_type": "stream",
     "text": [
      "Avec étoiles : P*y*t*h*o*n\n"
     ]
    }
   ],
   "source": [
    "def InsertEtoile(s):\n",
    "    return '*'.join(s)\n",
    "\n",
    "# Exemple\n",
    "print(\"Avec étoiles :\", InsertEtoile(\"Python\"))"
   ]
  },
  {
   "cell_type": "markdown",
   "id": "6dde41ab",
   "metadata": {},
   "source": [
    "## Exercice 44"
   ]
  },
  {
   "cell_type": "code",
   "execution_count": 4,
   "id": "acea74a7",
   "metadata": {},
   "outputs": [
    {
     "name": "stdout",
     "output_type": "stream",
     "text": [
      "Liste en majuscule : ['PYTHON', 'EST', 'UN', 'LANGAGE', 'DE', 'PROGRAMMATION']\n"
     ]
    }
   ],
   "source": [
    "def toutEnMajuscule(L):\n",
    "    return [mot.upper() for mot in L]\n",
    "\n",
    "# Exemple\n",
    "L = [\"Python\", \"est\", \"un\", \"langage\", \"de\", \"programmation\"]\n",
    "print(\"Liste en majuscule :\", toutEnMajuscule(L))"
   ]
  },
  {
   "cell_type": "markdown",
   "id": "f611e581",
   "metadata": {},
   "source": [
    "## Exercice 45"
   ]
  },
  {
   "cell_type": "code",
   "execution_count": 33,
   "id": "38b5dc54",
   "metadata": {},
   "outputs": [
    {
     "name": "stdout",
     "output_type": "stream",
     "text": [
      "Majuscules et minuscules : (7, 14)\n"
     ]
    }
   ],
   "source": [
    "def nombre_maj_min(s):\n",
    "    nbre_maj = sum(1 for c in s if c.isupper())\n",
    "    nbre_min = sum(1 for c in s if c.islower())\n",
    "    return nbre_maj, nbre_min\n",
    "\n",
    "# Exemple\n",
    "print(\"Majuscules et minuscules :\", nombre_maj_min(\"PythonEstUnLangagePOO\"))"
   ]
  },
  {
   "cell_type": "markdown",
   "id": "c1fb8451",
   "metadata": {},
   "source": [
    "## Exercice 46"
   ]
  },
  {
   "cell_type": "code",
   "execution_count": 2,
   "id": "8ef3eea8",
   "metadata": {},
   "outputs": [
    {
     "name": "stdout",
     "output_type": "stream",
     "text": [
      "Chiffres du nombre : [1, 2, 3, 4, 5]\n"
     ]
    }
   ],
   "source": [
    "def extraire_chiffres(n):\n",
    "    chiffres = []\n",
    "    while n > 0:\n",
    "        chiffres.append(n % 10)\n",
    "        n //= 10\n",
    "    return chiffres[::-1]\n",
    "\n",
    "# Exemple\n",
    "print(\"Chiffres du nombre :\", extraire_chiffres(12345))"
   ]
  },
  {
   "cell_type": "markdown",
   "id": "6186bb93",
   "metadata": {},
   "source": [
    "## Exercice 47"
   ]
  },
  {
   "cell_type": "code",
   "execution_count": 34,
   "id": "9f13ecc4",
   "metadata": {},
   "outputs": [
    {
     "name": "stdout",
     "output_type": "stream",
     "text": [
      "Saisissez une chaine : Python est un langage de programmation\n",
      "Saisissez une chaine : Python est orienté objet\n",
      "Mots communs : ['Python', 'est']\n"
     ]
    }
   ],
   "source": [
    "def mots_communs(t1, t2):\n",
    "    mots_t1 = set(t1.split())\n",
    "    mots_t2 = set(t2.split())\n",
    "    return list(mots_t1 & mots_t2)\n",
    "\n",
    "# Exemple\n",
    "T1 = str(input(\"Saisissez une chaine : \"))\n",
    "T2 = str(input(\"Saisissez une chaine : \"))\n",
    "print(\"Mots communs :\", mots_communs(T1, T2))"
   ]
  },
  {
   "cell_type": "code",
   "execution_count": null,
   "id": "2f4a8894",
   "metadata": {},
   "outputs": [],
   "source": []
  }
 ],
 "metadata": {
  "kernelspec": {
   "display_name": "Python 3 (ipykernel)",
   "language": "python",
   "name": "python3"
  },
  "language_info": {
   "codemirror_mode": {
    "name": "ipython",
    "version": 3
   },
   "file_extension": ".py",
   "mimetype": "text/x-python",
   "name": "python",
   "nbconvert_exporter": "python",
   "pygments_lexer": "ipython3",
   "version": "3.11.5"
  }
 },
 "nbformat": 4,
 "nbformat_minor": 5
}
